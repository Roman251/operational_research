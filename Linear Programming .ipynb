{
 "cells": [
  {
   "cell_type": "markdown",
   "metadata": {},
   "source": [
    "# Linear Programming"
   ]
  },
  {
   "cell_type": "markdown",
   "metadata": {},
   "source": [
    "**Minimize**: `x1x4(x1+x2+x3)+x3`<br>\n",
    "**Constraints** : `x1x2x3x4>=25` and `x1^2+x2^2+x3^2+x4^2=40`<br>\n",
    "**Bounds** : `1<=x1,x2,x3,x4<=5`<br>\n",
    "**Initial conditions** : `(1,5,5,1)`"
   ]
  },
  {
   "cell_type": "code",
   "execution_count": 1,
   "metadata": {},
   "outputs": [],
   "source": [
    "import numpy as np\n",
    "from scipy.optimize import minimize\n",
    "from scipy.optimize import linprog"
   ]
  },
  {
   "cell_type": "code",
   "execution_count": 2,
   "metadata": {},
   "outputs": [],
   "source": [
    "def objective(x):\n",
    "    return x[0]*x[3]*(x[0]+x[1]+x[2])+x[2] #Starts from x[0]\n",
    "def cons1(x):\n",
    "    return x[0]*x[1]*x[2]*x[3]-25\n",
    "def cons2(x):\n",
    "    sum_sq = 40\n",
    "    for i in range(4):\n",
    "        sum_sq = sum_sq-x[i]**2\n",
    "    return sum_sq"
   ]
  },
  {
   "cell_type": "code",
   "execution_count": 3,
   "metadata": {},
   "outputs": [
    {
     "name": "stdout",
     "output_type": "stream",
     "text": [
      "16.0\n"
     ]
    }
   ],
   "source": [
    "initial = np.zeros(4)\n",
    "initial[0] = 1.0\n",
    "initial[1] = 5.0\n",
    "initial[2] = 5.0\n",
    "initial[3] = 1.0\n",
    "print(objective(initial))"
   ]
  },
  {
   "cell_type": "code",
   "execution_count": 4,
   "metadata": {},
   "outputs": [],
   "source": [
    "bound = (1,5)\n",
    "bos = (bound,bound,bound,bound) # bound for each variable; x1,x2,x3,x4\n",
    "cons1 = {'type':'ineq', 'fun':cons1}\n",
    "cons2 = {'type':'eq', 'fun':cons2}\n",
    "cons = ([cons1,cons2])"
   ]
  },
  {
   "cell_type": "code",
   "execution_count": 5,
   "metadata": {},
   "outputs": [],
   "source": [
    "sol = minimize(objective,initial,method='SLSQP', \n",
    "               bounds = bos,constraints=cons)"
   ]
  },
  {
   "cell_type": "code",
   "execution_count": 6,
   "metadata": {},
   "outputs": [
    {
     "data": {
      "text/plain": [
       "     fun: 17.01401724563517\n",
       "     jac: array([14.57227015,  1.37940764,  2.37940764,  9.56415057])\n",
       " message: 'Optimization terminated successfully.'\n",
       "    nfev: 30\n",
       "     nit: 5\n",
       "    njev: 5\n",
       "  status: 0\n",
       " success: True\n",
       "       x: array([1.        , 4.7429961 , 3.82115462, 1.37940765])"
      ]
     },
     "execution_count": 6,
     "metadata": {},
     "output_type": "execute_result"
    }
   ],
   "source": [
    "sol"
   ]
  },
  {
   "cell_type": "markdown",
   "metadata": {},
   "source": [
    "---"
   ]
  },
  {
   "cell_type": "markdown",
   "metadata": {},
   "source": [
    "## Exercise: Soft Drink Production<br>\n",
    "**A simple production planning problem is given by the use of two ingredients A and B that produce products 1 and 2. The available supply is A=30 units and B=44 units. For production it requires**:<br>\n",
    "\n",
    "`3 units of A and 8 units of B to produce Product 1`<br>\n",
    "`6 units of A and 4 units of B to produce Product 2`<br>\n",
    "**There are at most 5 units of Product 1 and 4 units of Product 2. Product 1 can be sold for 100 and Product 2 can be sold for 125. The objective is to maximize the profit for this production problem**."
   ]
  },
  {
   "cell_type": "markdown",
   "metadata": {},
   "source": [
    "## Equations developed\n",
    "Max : `100x+125y`<br>\n",
    "Constraints : `3x + 6y <=30` and `8x+4y<=44`<br>\n",
    "Bounds : `0<= Product 1<=5` and `0<= Product 2 <=4`<br>"
   ]
  },
  {
   "cell_type": "code",
   "execution_count": 7,
   "metadata": {},
   "outputs": [
    {
     "name": "stdout",
     "output_type": "stream",
     "text": [
      "Primal Feasibility  Dual Feasibility    Duality Gap         Step             Path Parameter      Objective          \n",
      "1.0                 1.0                 1.0                 -                1.0                 -225.0              \n",
      "0.1954734975465     0.1954734975465     0.1954734975465     0.8151046518635  0.1954734975465     -432.5883006986     \n",
      "0.01672002013434    0.01672002013434    0.01672002013434    0.9299492396436  0.01672002013435    -734.2508248452     \n",
      "1.120337864421e-05  1.120337610415e-05  1.120337610429e-05  0.9994467149603  1.12033163289e-05   -774.9715289638     \n",
      "5.599022326701e-10  5.599070874198e-10  5.599070413658e-10  0.9999500233612  5.601702316992e-10  -774.9999985771     \n",
      "Optimization terminated successfully.\n",
      "         Current function value: -774.999999 \n",
      "         Iterations: 4\n",
      "     con: array([], dtype=float64)\n",
      "     fun: -774.999998577093\n",
      " message: 'Optimization terminated successfully.'\n",
      "     nit: 4\n",
      "   slack: array([5.36608660e-08, 8.45694785e-08])\n",
      "  status: 0\n",
      " success: True\n",
      "       x: array([3.99999999, 3.        ])\n"
     ]
    }
   ],
   "source": [
    "from scipy.optimize import linprog\n",
    "# To maximize 100x+125y\n",
    "c = [-100, -125] # scipy solves for minimize, so we use the - sign\n",
    "# Later the answer/current function value is multiplied by -1 to obtain the correct result\n",
    "A = [[3, 6], [8, 4]]\n",
    "# A<=30 According to the question\n",
    "# B<=44 According to the question\n",
    "b = [30, 44]\n",
    "x0_bounds = (0, 5)\n",
    "x1_bounds = (0, 4)\n",
    "res = linprog(c, A_ub=A, b_ub=b, \\\n",
    "              bounds=(x0_bounds, x1_bounds),\n",
    "              options={\"disp\": True})\n",
    "print(res)"
   ]
  },
  {
   "cell_type": "markdown",
   "metadata": {},
   "source": [
    "---"
   ]
  },
  {
   "cell_type": "markdown",
   "metadata": {},
   "source": [
    "**Maximize**: `3x + y` => **Minimize**: `-3x - y`<br>\n",
    "**Bounds**: `0≤x≤1` and `0≤y≤2`<br>\n",
    "**Constraint**: `x+y≤2`"
   ]
  },
  {
   "cell_type": "code",
   "execution_count": null,
   "metadata": {},
   "outputs": [],
   "source": []
  },
  {
   "cell_type": "code",
   "execution_count": 8,
   "metadata": {},
   "outputs": [
    {
     "name": "stdout",
     "output_type": "stream",
     "text": [
      "Primal Feasibility  Dual Feasibility    Duality Gap         Step             Path Parameter      Objective          \n",
      "1.0                 1.0                 1.0                 -                1.0                 -4.0                \n",
      "0.1284976520507     0.1284976520507     0.1284976520507     0.8748966900203  0.1284976520507     -4.245843555341     \n",
      "0.002028134637193   0.002028134637192   0.002028134637193   0.9893747766705  0.002028134637193   -4.004578391516     \n",
      "1.255290641433e-07  1.255290466787e-07  1.255290464168e-07  0.9999384311462  1.255290516812e-07  -4.000000205322     \n",
      "6.269322183924e-12  6.279496439015e-12  6.279569457017e-12  0.9999499757612  6.276452517961e-12  -4.00000000001      \n",
      "Optimization terminated successfully.\n",
      "         Current function value: -4.000000   \n",
      "         Iterations: 4\n",
      "     con: array([], dtype=float64)\n",
      "     fun: -4.000000000010252\n",
      " message: 'Optimization terminated successfully.'\n",
      "     nit: 4\n",
      "   slack: array([2.38031816e-13])\n",
      "  status: 0\n",
      " success: True\n",
      "       x: array([1., 1.])\n"
     ]
    }
   ],
   "source": [
    "c = [-3, -1]\n",
    "A = [[1,1]]\n",
    "b = [2]\n",
    "x0_bounds = (0, 1)\n",
    "x1_bounds = (0, 2)\n",
    "res = linprog(c, A_ub=A, b_ub=b, \\\n",
    "              bounds=(x0_bounds, x1_bounds),\n",
    "              options={\"disp\": True})\n",
    "print(res)"
   ]
  },
  {
   "cell_type": "markdown",
   "metadata": {},
   "source": [
    "---"
   ]
  },
  {
   "cell_type": "markdown",
   "metadata": {},
   "source": [
    "**Minimize**:`4x+6y`<br>\n",
    "**Constraints**:`x + y >= 8` and `6x + y >= 12`<br>\n",
    "**Bounds**: `x,y>=0`"
   ]
  },
  {
   "cell_type": "markdown",
   "metadata": {},
   "source": [
    "Since it is a **minimization** problem, constaints ought to be in **`<=`** form.<br>\n",
    "New Constraints: `-x - y <= -8` and `-6x - y <= -12`"
   ]
  },
  {
   "cell_type": "code",
   "execution_count": 9,
   "metadata": {},
   "outputs": [
    {
     "name": "stdout",
     "output_type": "stream",
     "text": [
      "Primal Feasibility  Dual Feasibility    Duality Gap         Step             Path Parameter      Objective          \n",
      "1.0                 1.0                 1.0                 -                1.0                 10.0                \n",
      "0.123526020496      0.123526020496      0.123526020496      0.879455259698   0.123526020496      26.57680934687      \n",
      "0.01641466645502    0.01641466645501    0.01641466645501    0.8930061718376  0.01641466645501    31.33682328105      \n",
      "0.002850053564725   0.00285005356445    0.00285005356445    0.8414206928395  0.002850053564472   31.51008559629      \n",
      "1.436125381734e-05  1.436125381517e-05  1.436125381512e-05  0.9996252834346  1.43612538157e-05   32.00000317667      \n",
      "7.193545289958e-10  7.193546865612e-10  7.193546364642e-10  0.9999499100397  7.193546447011e-10  32.00000000015      \n",
      "Optimization terminated successfully.\n",
      "         Current function value: 32.000000   \n",
      "         Iterations: 5\n",
      "     con: array([], dtype=float64)\n",
      "     fun: 32.00000000015242\n",
      " message: 'Optimization terminated successfully.'\n",
      "     nit: 5\n",
      "   slack: array([-1.72137238e-08,  3.59999997e+01])\n",
      "  status: 0\n",
      " success: True\n",
      "       x: array([7.99999995e+00, 3.45036557e-08])\n"
     ]
    }
   ],
   "source": [
    "c = [4,6]\n",
    "A = [[-1,-1],[-6,-1]]\n",
    "b = [-8,-12]\n",
    "x0_bounds = (0,10)\n",
    "x1_bounds = (0,10)\n",
    "res = linprog(c, A_ub=A, b_ub=b, \\\n",
    "              bounds=(x0_bounds, x1_bounds),\n",
    "              options={\"disp\": True})\n",
    "print(res)"
   ]
  },
  {
   "cell_type": "markdown",
   "metadata": {},
   "source": [
    "---"
   ]
  },
  {
   "cell_type": "markdown",
   "metadata": {},
   "source": [
    "**Maximize**:`100x+60y`<br>\n",
    "**Constraints**:`5x + 10y <= 50` and `8x + 2y >= 16` and `3x-2y >= 6` <br>\n",
    "**Bounds**: `x,y>=0`"
   ]
  },
  {
   "cell_type": "markdown",
   "metadata": {},
   "source": [
    "## Turning this to a minimization problem:<br>\n",
    "**Minimize**:`-100x+-60y`<br>\n",
    "**Constraints**:`5x + 10y <= 50` and `8x + 2y >= 16` and `3x-2y >= 6` <br>\n",
    "**Bounds**: `x,y>=0`"
   ]
  },
  {
   "cell_type": "markdown",
   "metadata": {},
   "source": [
    "Since it is a **minimization** problem, constaints ought to be in **`<=`** form.<br>\n",
    "New Constraints: `5x + 10y <= 50` and `-8x - 2y <= -16` and `-3x + 2y <= -6`"
   ]
  },
  {
   "cell_type": "markdown",
   "metadata": {},
   "source": [
    "### Note: Since we converted a maximize problem to a minimize problem, the real answer will be obtained my multiplying Current function value by-1. "
   ]
  },
  {
   "cell_type": "code",
   "execution_count": 10,
   "metadata": {},
   "outputs": [
    {
     "name": "stdout",
     "output_type": "stream",
     "text": [
      "Primal Feasibility  Dual Feasibility    Duality Gap         Step             Path Parameter      Objective          \n",
      "1.0                 1.0                 1.0                 -                1.0                 -160.0              \n",
      "0.1573784239369     0.1573784239369     0.1573784239369     0.8551057321542  0.1573784239369     -259.4291295279     \n",
      "0.01177472120656    0.01177472120656    0.01177472120656    0.9383750377026  0.01177472120656    -792.3117605802     \n",
      "0.0001283426769419  0.0001283426769419  0.0001283426769419  0.9902721678523  0.0001283426769419  -997.3025791743     \n",
      "6.615620923297e-09  6.615656313228e-09  6.61565632744e-09   0.9999485324837  6.615764983344e-09  -999.9998603006     \n",
      "3.289880725393e-13  3.334964317307e-13  3.335082035835e-13  0.9999495897524  3.327484710293e-13  -999.999999993      \n",
      "Optimization terminated successfully.\n",
      "         Current function value: -1000.000000\n",
      "         Iterations: 5\n"
     ]
    }
   ],
   "source": [
    "c = [-100,-60]\n",
    "A = [[5,10],[-8,-2],[-3,2]]\n",
    "b = [50,-16,-6]\n",
    "x0_bounds = (0,10)\n",
    "x1_bounds = (0,10)\n",
    "res = linprog(c, A_ub=A, b_ub=b, \\\n",
    "              bounds=(x0_bounds, x1_bounds),\n",
    "              options={\"disp\": True})"
   ]
  },
  {
   "cell_type": "code",
   "execution_count": null,
   "metadata": {},
   "outputs": [],
   "source": []
  }
 ],
 "metadata": {
  "kernelspec": {
   "display_name": "Python 3",
   "language": "python",
   "name": "python3"
  },
  "language_info": {
   "codemirror_mode": {
    "name": "ipython",
    "version": 3
   },
   "file_extension": ".py",
   "mimetype": "text/x-python",
   "name": "python",
   "nbconvert_exporter": "python",
   "pygments_lexer": "ipython3",
   "version": "3.7.5"
  }
 },
 "nbformat": 4,
 "nbformat_minor": 2
}

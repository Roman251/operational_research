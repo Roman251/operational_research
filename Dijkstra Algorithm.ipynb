{
 "cells": [
  {
   "cell_type": "code",
   "execution_count": 1,
   "metadata": {},
   "outputs": [],
   "source": [
    "graph = {'a':{'b':10,'c':3},'b':{'c':1,'d':2},'c':{'b':4,'d':8,'e':2},'d':{'e':7},'e':{'d':9}}\n",
    "graph['f']={'c':2}"
   ]
  },
  {
   "cell_type": "code",
   "execution_count": 2,
   "metadata": {},
   "outputs": [
    {
     "data": {
      "text/plain": [
       "{'a': {'b': 10, 'c': 3},\n",
       " 'b': {'c': 1, 'd': 2},\n",
       " 'c': {'b': 4, 'd': 8, 'e': 2},\n",
       " 'd': {'e': 7},\n",
       " 'e': {'d': 9},\n",
       " 'f': {'c': 2}}"
      ]
     },
     "execution_count": 2,
     "metadata": {},
     "output_type": "execute_result"
    }
   ],
   "source": [
    "graph"
   ]
  },
  {
   "cell_type": "code",
   "execution_count": 3,
   "metadata": {},
   "outputs": [
    {
     "data": {
      "text/plain": [
       "dict_keys(['a', 'b', 'c', 'd', 'e', 'f'])"
      ]
     },
     "execution_count": 3,
     "metadata": {},
     "output_type": "execute_result"
    }
   ],
   "source": [
    "graph.keys()"
   ]
  },
  {
   "cell_type": "code",
   "execution_count": 4,
   "metadata": {},
   "outputs": [
    {
     "data": {
      "text/plain": [
       "dict_values([{'b': 10, 'c': 3}, {'c': 1, 'd': 2}, {'b': 4, 'd': 8, 'e': 2}, {'e': 7}, {'d': 9}, {'c': 2}])"
      ]
     },
     "execution_count": 4,
     "metadata": {},
     "output_type": "execute_result"
    }
   ],
   "source": [
    "graph.values()"
   ]
  },
  {
   "cell_type": "code",
   "execution_count": 5,
   "metadata": {},
   "outputs": [],
   "source": [
    "# graph={}\n",
    "# limit = int(input(\"Enter the number of nodes/possible starting points\"))\n",
    "# for i in range(limit):\n",
    "#     key = input('Enter the node point')\n",
    "#     value = input('Enter the adjacent points with their distances')\n",
    "#     graph[key]=value"
   ]
  },
  {
   "cell_type": "code",
   "execution_count": 6,
   "metadata": {},
   "outputs": [],
   "source": [
    "# cost={}\n",
    "# for i in graph.keys():\n",
    "#     value = input('Enter the cost of travelling from one point to another')\n",
    "#     cost[i]=value"
   ]
  },
  {
   "cell_type": "code",
   "execution_count": 7,
   "metadata": {},
   "outputs": [],
   "source": [
    "graph = {'baluwatar': {'putalisadak': 3.1, 'new_baneshwor': 5.5, 'koteshwor': 8.4},\n",
    " 'putalisadak': {'ratnapark': 1.1},\n",
    " 'ratnapark': {'dhulikhel': 29.9, 'panauti': 32.3},\n",
    " 'new_baneshwor': {'dhulikhel': 26.6, 'panauti': 29},\n",
    " 'koteshwor': {'panauti': 27.6, 'dhulikhel': 25.2},\n",
    " 'dhulikhel': {'panauti': 11.2},\n",
    "  'panauti': {'dhulikhel':11.2}}"
   ]
  },
  {
   "cell_type": "code",
   "execution_count": 8,
   "metadata": {},
   "outputs": [
    {
     "data": {
      "text/plain": [
       "{'baluwatar': {'putalisadak': 3.1, 'new_baneshwor': 5.5, 'koteshwor': 8.4},\n",
       " 'putalisadak': {'ratnapark': 1.1},\n",
       " 'ratnapark': {'dhulikhel': 29.9, 'panauti': 32.3},\n",
       " 'new_baneshwor': {'dhulikhel': 26.6, 'panauti': 29},\n",
       " 'koteshwor': {'panauti': 27.6, 'dhulikhel': 25.2},\n",
       " 'dhulikhel': {'panauti': 11.2},\n",
       " 'panauti': {'dhulikhel': 11.2}}"
      ]
     },
     "execution_count": 8,
     "metadata": {},
     "output_type": "execute_result"
    }
   ],
   "source": [
    "graph"
   ]
  },
  {
   "cell_type": "code",
   "execution_count": 9,
   "metadata": {},
   "outputs": [],
   "source": [
    "cost = {'baluwatar':{'putalisadak':15,'new_baneshwor':15,'koteshwor':18},'putalisadak':{'ratnapark':0},\n",
    "        'ratnapark':{'dhulikhel':30,'panauti':30},'new_baneshwor':{'dhulikhel':30,'panauti':30},\n",
    "        'koteshwor':{'panauti':30,'dhulikhel':30}}"
   ]
  },
  {
   "cell_type": "code",
   "execution_count": 10,
   "metadata": {},
   "outputs": [
    {
     "data": {
      "text/plain": [
       "{'baluwatar': {'putalisadak': 15, 'new_baneshwor': 15, 'koteshwor': 18},\n",
       " 'putalisadak': {'ratnapark': 0},\n",
       " 'ratnapark': {'dhulikhel': 30, 'panauti': 30},\n",
       " 'new_baneshwor': {'dhulikhel': 30, 'panauti': 30},\n",
       " 'koteshwor': {'panauti': 30, 'dhulikhel': 30}}"
      ]
     },
     "execution_count": 10,
     "metadata": {},
     "output_type": "execute_result"
    }
   ],
   "source": [
    "cost"
   ]
  },
  {
   "cell_type": "code",
   "execution_count": 11,
   "metadata": {},
   "outputs": [],
   "source": [
    "def dijkstra(graph,start,goal):\n",
    "    shortest_distance = {}\n",
    "    predecessor = {}\n",
    "    path = []\n",
    "    unseenNodes =  list(graph.keys())\n",
    "    infinity =  float(\"inf\")\n",
    "    for node in unseenNodes:\n",
    "        shortest_distance[node] = infinity\n",
    "    shortest_distance[start] = 0\n",
    " \n",
    "    while unseenNodes:\n",
    "        minNode = None\n",
    "        for node in unseenNodes:\n",
    "            if minNode is None:\n",
    "                minNode = node\n",
    "            elif shortest_distance[node] < shortest_distance[minNode]:\n",
    "                minNode = node\n",
    " \n",
    "        for childNode, weight in graph[minNode].items():\n",
    "            if weight + shortest_distance[minNode] < shortest_distance[childNode]:\n",
    "                shortest_distance[childNode] = weight + shortest_distance[minNode]\n",
    "                predecessor[childNode] = minNode\n",
    "        unseenNodes.remove(minNode)\n",
    " \n",
    "    currentNode = goal\n",
    "    while currentNode != start:\n",
    "        try:\n",
    "            path.insert(0,currentNode)\n",
    "            currentNode = predecessor[currentNode]\n",
    "        except KeyError:\n",
    "            print('Path not reachable')\n",
    "            break\n",
    "    path.insert(0,start)\n",
    "    if shortest_distance[goal] != infinity:\n",
    "        print('Shortest distance is ' + str(shortest_distance[goal]))\n",
    "        print('And the path is ' + str(path))\n",
    "    \n",
    "    \n",
    "    return shortest_distance,path "
   ]
  },
  {
   "cell_type": "code",
   "execution_count": 12,
   "metadata": {},
   "outputs": [
    {
     "name": "stdout",
     "output_type": "stream",
     "text": [
      "Shortest distance is 5.5\n",
      "And the path is ['baluwatar', 'new_baneshwor']\n"
     ]
    },
    {
     "data": {
      "text/plain": [
       "({'baluwatar': 0,\n",
       "  'putalisadak': 3.1,\n",
       "  'ratnapark': 4.2,\n",
       "  'new_baneshwor': 5.5,\n",
       "  'koteshwor': 8.4,\n",
       "  'dhulikhel': 32.1,\n",
       "  'panauti': 34.5},\n",
       " ['baluwatar', 'new_baneshwor'])"
      ]
     },
     "execution_count": 12,
     "metadata": {},
     "output_type": "execute_result"
    }
   ],
   "source": [
    "dijkstra(graph, 'baluwatar', 'new_baneshwor')"
   ]
  },
  {
   "cell_type": "code",
   "execution_count": 13,
   "metadata": {},
   "outputs": [
    {
     "name": "stdout",
     "output_type": "stream",
     "text": [
      "Shortest distance is 32.1\n",
      "And the path is ['baluwatar', 'new_baneshwor', 'dhulikhel']\n"
     ]
    }
   ],
   "source": [
    "path = dijkstra(graph, 'baluwatar', 'dhulikhel')[1]"
   ]
  },
  {
   "cell_type": "code",
   "execution_count": 14,
   "metadata": {},
   "outputs": [
    {
     "data": {
      "text/plain": [
       "['baluwatar', 'new_baneshwor', 'dhulikhel']"
      ]
     },
     "execution_count": 14,
     "metadata": {},
     "output_type": "execute_result"
    }
   ],
   "source": [
    "path"
   ]
  },
  {
   "cell_type": "code",
   "execution_count": 15,
   "metadata": {},
   "outputs": [
    {
     "data": {
      "text/plain": [
       "15"
      ]
     },
     "execution_count": 15,
     "metadata": {},
     "output_type": "execute_result"
    }
   ],
   "source": [
    "cost[path[0]][path[1]]"
   ]
  },
  {
   "cell_type": "code",
   "execution_count": 16,
   "metadata": {},
   "outputs": [
    {
     "data": {
      "text/plain": [
       "45"
      ]
     },
     "execution_count": 16,
     "metadata": {},
     "output_type": "execute_result"
    }
   ],
   "source": [
    "cost['baluwatar']['new_baneshwor']+cost['new_baneshwor']['dhulikhel']"
   ]
  },
  {
   "cell_type": "code",
   "execution_count": 17,
   "metadata": {},
   "outputs": [],
   "source": [
    "total = 0\n",
    "for i in range(len(path)-1):\n",
    "    if i <=len(path): \n",
    "        total = cost[path[i]][path[i+1]] + total\n",
    "    else:\n",
    "        break"
   ]
  },
  {
   "cell_type": "code",
   "execution_count": 18,
   "metadata": {},
   "outputs": [
    {
     "name": "stdout",
     "output_type": "stream",
     "text": [
      "Total_Cost of Travel from baluwatar to dhulikhel is: 45\n"
     ]
    }
   ],
   "source": [
    "print('Total_Cost of Travel from {} to {} is:'.format(path[0],path[-1]),total)"
   ]
  },
  {
   "cell_type": "code",
   "execution_count": null,
   "metadata": {},
   "outputs": [],
   "source": []
  }
 ],
 "metadata": {
  "kernelspec": {
   "display_name": "Python 3",
   "language": "python",
   "name": "python3"
  },
  "language_info": {
   "codemirror_mode": {
    "name": "ipython",
    "version": 3
   },
   "file_extension": ".py",
   "mimetype": "text/x-python",
   "name": "python",
   "nbconvert_exporter": "python",
   "pygments_lexer": "ipython3",
   "version": "3.7.5"
  }
 },
 "nbformat": 4,
 "nbformat_minor": 4
}

{
 "cells": [
  {
   "cell_type": "code",
   "execution_count": 1,
   "metadata": {},
   "outputs": [
    {
     "data": {
      "text/plain": [
       "{}"
      ]
     },
     "execution_count": 1,
     "metadata": {},
     "output_type": "execute_result"
    }
   ],
   "source": [
    "dictionary = {}\n",
    "dictionary"
   ]
  },
  {
   "cell_type": "code",
   "execution_count": 2,
   "metadata": {},
   "outputs": [],
   "source": [
    "graph = {'a':{'b':10,'c':3},'b':{'c':1,'d':2},'c':{'b':4,'d':8,'e':2},'d':{'e':7},'e':{'d':9}}"
   ]
  },
  {
   "cell_type": "code",
   "execution_count": 3,
   "metadata": {},
   "outputs": [
    {
     "data": {
      "text/plain": [
       "{'a': {'b': 10, 'c': 3},\n",
       " 'b': {'c': 1, 'd': 2},\n",
       " 'c': {'b': 4, 'd': 8, 'e': 2},\n",
       " 'd': {'e': 7},\n",
       " 'e': {'d': 9}}"
      ]
     },
     "execution_count": 3,
     "metadata": {},
     "output_type": "execute_result"
    }
   ],
   "source": [
    "graph"
   ]
  },
  {
   "cell_type": "code",
   "execution_count": 4,
   "metadata": {},
   "outputs": [
    {
     "data": {
      "text/plain": [
       "dict_keys(['a', 'b', 'c', 'd', 'e'])"
      ]
     },
     "execution_count": 4,
     "metadata": {},
     "output_type": "execute_result"
    }
   ],
   "source": [
    "graph.keys()"
   ]
  },
  {
   "cell_type": "code",
   "execution_count": 5,
   "metadata": {},
   "outputs": [
    {
     "data": {
      "text/plain": [
       "dict_values([{'b': 10, 'c': 3}, {'c': 1, 'd': 2}, {'b': 4, 'd': 8, 'e': 2}, {'e': 7}, {'d': 9}])"
      ]
     },
     "execution_count": 5,
     "metadata": {},
     "output_type": "execute_result"
    }
   ],
   "source": [
    "graph.values()"
   ]
  },
  {
   "cell_type": "code",
   "execution_count": 6,
   "metadata": {},
   "outputs": [],
   "source": [
    "graph['f']={'c':2}"
   ]
  },
  {
   "cell_type": "code",
   "execution_count": 7,
   "metadata": {},
   "outputs": [
    {
     "data": {
      "text/plain": [
       "{'a': {'b': 10, 'c': 3},\n",
       " 'b': {'c': 1, 'd': 2},\n",
       " 'c': {'b': 4, 'd': 8, 'e': 2},\n",
       " 'd': {'e': 7},\n",
       " 'e': {'d': 9},\n",
       " 'f': {'c': 2}}"
      ]
     },
     "execution_count": 7,
     "metadata": {},
     "output_type": "execute_result"
    }
   ],
   "source": [
    "graph"
   ]
  },
  {
   "cell_type": "code",
   "execution_count": 8,
   "metadata": {},
   "outputs": [],
   "source": [
    "graph['f']={'e':6,'c':2}"
   ]
  },
  {
   "cell_type": "code",
   "execution_count": 9,
   "metadata": {},
   "outputs": [
    {
     "data": {
      "text/plain": [
       "{'a': {'b': 10, 'c': 3},\n",
       " 'b': {'c': 1, 'd': 2},\n",
       " 'c': {'b': 4, 'd': 8, 'e': 2},\n",
       " 'd': {'e': 7},\n",
       " 'e': {'d': 9},\n",
       " 'f': {'e': 6, 'c': 2}}"
      ]
     },
     "execution_count": 9,
     "metadata": {},
     "output_type": "execute_result"
    }
   ],
   "source": [
    "graph"
   ]
  },
  {
   "cell_type": "markdown",
   "metadata": {},
   "source": [
    "## For User Input"
   ]
  },
  {
   "cell_type": "code",
   "execution_count": 10,
   "metadata": {},
   "outputs": [],
   "source": [
    "# graph_2 = {}\n",
    "# limit = int(input(\"Enter the number of nodes/possible starting points \"))\n",
    "# for i in range(limit):\n",
    "#     graph={}\n",
    "#     key = input('Enter the node point ')\n",
    "#     limit_2 = int(input('Enter the number of possible destinations from {} '.format(key)))\n",
    "#     for j in range(limit_2):\n",
    "#         key_2 = input('Enter the node point ')\n",
    "#         value = int(input('Enter the distance to this position from the node point '))\n",
    "#         graph[key_2]=value\n",
    "#         print(graph)\n",
    "#         graph_2[key] = graph\n",
    "#         print(graph_2)"
   ]
  },
  {
   "cell_type": "code",
   "execution_count": 11,
   "metadata": {},
   "outputs": [],
   "source": [
    "#graph_2"
   ]
  },
  {
   "cell_type": "code",
   "execution_count": 12,
   "metadata": {},
   "outputs": [],
   "source": [
    "graph = {'baluwatar': {'putalisadak': 3.1, 'new_baneshwor': 5.5, 'koteshwor': 8.4},\n",
    " 'putalisadak': {'ratnapark': 1.1},\n",
    " 'ratnapark': {'dhulikhel': 29.9, 'panauti': 32.3},\n",
    " 'new_baneshwor': {'dhulikhel': 26.6, 'panauti': 29},\n",
    " 'koteshwor': {'panauti': 27.6, 'dhulikhel': 25.2},\n",
    " 'dhulikhel': {'panauti': 11.2},\n",
    "  'panauti': {'dhulikhel':11.2}}"
   ]
  },
  {
   "cell_type": "code",
   "execution_count": 13,
   "metadata": {},
   "outputs": [
    {
     "data": {
      "text/plain": [
       "{'baluwatar': {'putalisadak': 3.1, 'new_baneshwor': 5.5, 'koteshwor': 8.4},\n",
       " 'putalisadak': {'ratnapark': 1.1},\n",
       " 'ratnapark': {'dhulikhel': 29.9, 'panauti': 32.3},\n",
       " 'new_baneshwor': {'dhulikhel': 26.6, 'panauti': 29},\n",
       " 'koteshwor': {'panauti': 27.6, 'dhulikhel': 25.2},\n",
       " 'dhulikhel': {'panauti': 11.2},\n",
       " 'panauti': {'dhulikhel': 11.2}}"
      ]
     },
     "execution_count": 13,
     "metadata": {},
     "output_type": "execute_result"
    }
   ],
   "source": [
    "graph"
   ]
  },
  {
   "cell_type": "code",
   "execution_count": 14,
   "metadata": {},
   "outputs": [],
   "source": [
    "cost = {'baluwatar':{'putalisadak':15,'new_baneshwor':15,'koteshwor':18},'putalisadak':{'ratnapark':0},\n",
    "        'ratnapark':{'dhulikhel':30,'panauti':30},'new_baneshwor':{'dhulikhel':30,'panauti':30},\n",
    "        'koteshwor':{'panauti':30,'dhulikhel':30},\n",
    "        'dhulikhel':{'panauti':15},\n",
    "        'panauti':{'dhulikhel':15}}"
   ]
  },
  {
   "cell_type": "code",
   "execution_count": 15,
   "metadata": {},
   "outputs": [
    {
     "data": {
      "text/plain": [
       "{'baluwatar': {'putalisadak': 15, 'new_baneshwor': 15, 'koteshwor': 18},\n",
       " 'putalisadak': {'ratnapark': 0},\n",
       " 'ratnapark': {'dhulikhel': 30, 'panauti': 30},\n",
       " 'new_baneshwor': {'dhulikhel': 30, 'panauti': 30},\n",
       " 'koteshwor': {'panauti': 30, 'dhulikhel': 30},\n",
       " 'dhulikhel': {'panauti': 15},\n",
       " 'panauti': {'dhulikhel': 15}}"
      ]
     },
     "execution_count": 15,
     "metadata": {},
     "output_type": "execute_result"
    }
   ],
   "source": [
    "cost"
   ]
  },
  {
   "cell_type": "code",
   "execution_count": 16,
   "metadata": {},
   "outputs": [],
   "source": [
    "def dijkstra_shortest_distance(graph,start,goal):\n",
    "    shortest_distance = {}\n",
    "    predecessor = {}\n",
    "    path = []\n",
    "    unseenNodes =  list(graph.keys())\n",
    "    infinity =  float(\"inf\")\n",
    "    for node in unseenNodes:\n",
    "        shortest_distance[node] = infinity\n",
    "    shortest_distance[start] = 0\n",
    " \n",
    "    while unseenNodes:\n",
    "        minNode = None\n",
    "        for node in unseenNodes:\n",
    "            if minNode is None:\n",
    "                minNode = node\n",
    "            elif shortest_distance[node] < shortest_distance[minNode]:\n",
    "                minNode = node\n",
    " \n",
    "        for childNode, weight in graph[minNode].items():\n",
    "            if weight + shortest_distance[minNode] < shortest_distance[childNode]:\n",
    "                shortest_distance[childNode] = weight + shortest_distance[minNode]\n",
    "                predecessor[childNode] = minNode\n",
    "        unseenNodes.remove(minNode)\n",
    " \n",
    "    currentNode = goal\n",
    "    while currentNode != start:\n",
    "        try:\n",
    "            path.insert(0,currentNode)\n",
    "            currentNode = predecessor[currentNode]\n",
    "        except KeyError:\n",
    "            print('Path not reachable')\n",
    "            break\n",
    "    path.insert(0,start)\n",
    "    if shortest_distance[goal] != infinity:\n",
    "        print('Shortest distance is ' + str(shortest_distance[goal]))\n",
    "        print('And the path is ' + str(path))\n",
    "    \n",
    "    \n",
    "    return path "
   ]
  },
  {
   "cell_type": "code",
   "execution_count": 17,
   "metadata": {},
   "outputs": [
    {
     "name": "stdout",
     "output_type": "stream",
     "text": [
      "Shortest distance is 5.5\n",
      "And the path is ['baluwatar', 'new_baneshwor']\n"
     ]
    },
    {
     "data": {
      "text/plain": [
       "['baluwatar', 'new_baneshwor']"
      ]
     },
     "execution_count": 17,
     "metadata": {},
     "output_type": "execute_result"
    }
   ],
   "source": [
    "dijkstra_shortest_distance(graph, 'baluwatar', 'new_baneshwor')"
   ]
  },
  {
   "cell_type": "code",
   "execution_count": 18,
   "metadata": {},
   "outputs": [
    {
     "name": "stdout",
     "output_type": "stream",
     "text": [
      "Shortest distance is 32.1\n",
      "And the path is ['baluwatar', 'new_baneshwor', 'dhulikhel']\n"
     ]
    }
   ],
   "source": [
    "path = dijkstra_shortest_distance(graph, 'baluwatar', 'dhulikhel')"
   ]
  },
  {
   "cell_type": "code",
   "execution_count": 19,
   "metadata": {},
   "outputs": [
    {
     "data": {
      "text/plain": [
       "['baluwatar', 'new_baneshwor', 'dhulikhel']"
      ]
     },
     "execution_count": 19,
     "metadata": {},
     "output_type": "execute_result"
    }
   ],
   "source": [
    "path"
   ]
  },
  {
   "cell_type": "code",
   "execution_count": 20,
   "metadata": {},
   "outputs": [
    {
     "data": {
      "text/plain": [
       "15"
      ]
     },
     "execution_count": 20,
     "metadata": {},
     "output_type": "execute_result"
    }
   ],
   "source": [
    "cost[path[0]][path[1]]"
   ]
  },
  {
   "cell_type": "code",
   "execution_count": 21,
   "metadata": {},
   "outputs": [
    {
     "data": {
      "text/plain": [
       "45"
      ]
     },
     "execution_count": 21,
     "metadata": {},
     "output_type": "execute_result"
    }
   ],
   "source": [
    "cost['baluwatar']['new_baneshwor']+cost['new_baneshwor']['dhulikhel']"
   ]
  },
  {
   "cell_type": "code",
   "execution_count": 22,
   "metadata": {},
   "outputs": [],
   "source": [
    "total = 0\n",
    "for i in range(len(path)-1):\n",
    "    if i <=len(path): \n",
    "        total = cost[path[i]][path[i+1]] + total\n",
    "    else:\n",
    "        break"
   ]
  },
  {
   "cell_type": "code",
   "execution_count": 23,
   "metadata": {},
   "outputs": [
    {
     "name": "stdout",
     "output_type": "stream",
     "text": [
      "Total_Cost of Travel from baluwatar to dhulikhel is: 45\n"
     ]
    }
   ],
   "source": [
    "print('Total_Cost of Travel from {} to {} is:'.format(path[0],path[-1]),total)"
   ]
  },
  {
   "cell_type": "code",
   "execution_count": 24,
   "metadata": {},
   "outputs": [],
   "source": [
    "def dijkstra_minimum_cost(cost,start,goal):\n",
    "    minimum_cost = {}\n",
    "    predecessor = {}\n",
    "    path = []\n",
    "    unseenNodes =  list(cost.keys())\n",
    "    infinity =  float(\"inf\")\n",
    "    for node in unseenNodes:\n",
    "        minimum_cost[node] = infinity\n",
    "    minimum_cost[start] = 0\n",
    " \n",
    "    while unseenNodes:\n",
    "        minNode = None\n",
    "        for node in unseenNodes:\n",
    "            if minNode is None:\n",
    "                minNode = node\n",
    "            elif minimum_cost[node] < minimum_cost[minNode]:\n",
    "                minNode = node\n",
    " \n",
    "        for childNode, weight in cost[minNode].items():\n",
    "            if weight + minimum_cost[minNode] < minimum_cost[childNode]:\n",
    "                minimum_cost[childNode] = weight + minimum_cost[minNode]\n",
    "                predecessor[childNode] = minNode\n",
    "        unseenNodes.remove(minNode)\n",
    " \n",
    "    currentNode = goal\n",
    "    while currentNode != start:\n",
    "        try:\n",
    "            path.insert(0,currentNode)\n",
    "            currentNode = predecessor[currentNode]\n",
    "        except KeyError:\n",
    "            print('Path not reachable')\n",
    "            break\n",
    "    path.insert(0,start)\n",
    "    if minimum_cost[goal] != infinity:\n",
    "        print('Minimum cost is ' + str(minimum_cost[goal]))\n",
    "        print('And the path is ' + str(path))\n",
    "    \n",
    "    \n",
    "    return path"
   ]
  },
  {
   "cell_type": "code",
   "execution_count": 25,
   "metadata": {},
   "outputs": [
    {
     "name": "stdout",
     "output_type": "stream",
     "text": [
      "Minimum cost is 15\n",
      "And the path is ['baluwatar', 'new_baneshwor']\n"
     ]
    },
    {
     "data": {
      "text/plain": [
       "['baluwatar', 'new_baneshwor']"
      ]
     },
     "execution_count": 25,
     "metadata": {},
     "output_type": "execute_result"
    }
   ],
   "source": [
    "dijkstra_minimum_cost(cost, 'baluwatar', 'new_baneshwor')"
   ]
  },
  {
   "cell_type": "code",
   "execution_count": 26,
   "metadata": {},
   "outputs": [
    {
     "name": "stdout",
     "output_type": "stream",
     "text": [
      "Minimum cost is 45\n",
      "And the path is ['baluwatar', 'putalisadak', 'ratnapark', 'dhulikhel']\n"
     ]
    }
   ],
   "source": [
    "path = dijkstra_minimum_cost(cost, 'baluwatar', 'dhulikhel')"
   ]
  },
  {
   "cell_type": "code",
   "execution_count": 27,
   "metadata": {},
   "outputs": [
    {
     "data": {
      "text/plain": [
       "34.1"
      ]
     },
     "execution_count": 27,
     "metadata": {},
     "output_type": "execute_result"
    }
   ],
   "source": [
    "graph['baluwatar']['putalisadak']+graph['putalisadak']['ratnapark']+graph['ratnapark']['dhulikhel']"
   ]
  },
  {
   "cell_type": "code",
   "execution_count": 28,
   "metadata": {},
   "outputs": [
    {
     "data": {
      "text/plain": [
       "['baluwatar', 'putalisadak', 'ratnapark', 'dhulikhel']"
      ]
     },
     "execution_count": 28,
     "metadata": {},
     "output_type": "execute_result"
    }
   ],
   "source": [
    "path"
   ]
  },
  {
   "cell_type": "code",
   "execution_count": 29,
   "metadata": {},
   "outputs": [],
   "source": [
    "total = 0\n",
    "for i in range(len(path)-1):\n",
    "    if i <=(len(path)): \n",
    "        total = graph[path[i]][path[i+1]] + total\n",
    "    else:\n",
    "        break"
   ]
  },
  {
   "cell_type": "code",
   "execution_count": 30,
   "metadata": {},
   "outputs": [
    {
     "name": "stdout",
     "output_type": "stream",
     "text": [
      "Total_distance of Traveled from baluwatar to dhulikhel is: 34.1\n"
     ]
    }
   ],
   "source": [
    "print('Total_distance of Traveled from {} to {} is:'.format(path[0],path[-1]),total)"
   ]
  },
  {
   "cell_type": "code",
   "execution_count": null,
   "metadata": {},
   "outputs": [],
   "source": []
  }
 ],
 "metadata": {
  "kernelspec": {
   "display_name": "Python 3",
   "language": "python",
   "name": "python3"
  },
  "language_info": {
   "codemirror_mode": {
    "name": "ipython",
    "version": 3
   },
   "file_extension": ".py",
   "mimetype": "text/x-python",
   "name": "python",
   "nbconvert_exporter": "python",
   "pygments_lexer": "ipython3",
   "version": "3.7.5"
  }
 },
 "nbformat": 4,
 "nbformat_minor": 4
}
